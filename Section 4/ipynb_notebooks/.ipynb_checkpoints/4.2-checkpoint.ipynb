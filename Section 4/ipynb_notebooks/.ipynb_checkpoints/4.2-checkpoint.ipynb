{
 "cells": [
  {
   "cell_type": "code",
   "execution_count": 5,
   "metadata": {},
   "outputs": [],
   "source": [
    "import numpy as np\n",
    "import pandas as pd\n",
    "from pandas_datareader import data\n",
    "import matplotlib.pyplot as plt\n",
    "import matplotlib.pylab as pylab\n",
    "from scipy.stats import iqr"
   ]
  },
  {
   "cell_type": "code",
   "execution_count": 2,
   "metadata": {},
   "outputs": [],
   "source": [
    "params = {'figure.figsize': (15, 5),\n",
    "         'axes.labelsize': 14,\n",
    "         'axes.titlesize': 14,\n",
    "          'axes.titlesize': 18}\n",
    "pylab.rcParams.update(params)"
   ]
  },
  {
   "cell_type": "code",
   "execution_count": 8,
   "metadata": {},
   "outputs": [],
   "source": [
    "start = '2018-03-16'\n",
    "end = '2019-03-11'\n",
    "\n",
    "aapl = data.DataReader(\"AAPL\", \n",
    "                       start=start, \n",
    "                       end=end, \n",
    "                       data_source='yahoo')\n",
    "ibm = data.DataReader(\"IBM\", \n",
    "                       start=start, \n",
    "                       end=end,\n",
    "                       data_source='yahoo')\n",
    "jpm = data.DataReader(\"JPM\", \n",
    "                       start=start, \n",
    "                       end=end,\n",
    "                       data_source='yahoo')\n",
    "djx = data.DataReader(\"DJIA\", \n",
    "                       start=start, \n",
    "                       end=end, \n",
    "                       data_source='yahoo')\n",
    "# month = [aapl.index[i].strftime(\"%Y-%m-%d\") for i in np.linspace(0,len(aapl.index)-1,12).astype(int)]\n"
   ]
  },
  {
   "cell_type": "code",
   "execution_count": 6,
   "metadata": {},
   "outputs": [],
   "source": [
    "import numpy as np\n",
    "from scipy.stats import iqr\n",
    "\n",
    "#robust location estimator: median\n",
    "def median(x):\n",
    "    return np.median(x)\n",
    "\n",
    "#robust scale estimator: IQR\n",
    "def IQR(x):\n",
    "    return iqr(x)\n",
    "\n",
    "#robust scale estimator: MAD\n",
    "def MAD(x):\n",
    "    return np.median( abs(x - np.median(x)) )"
   ]
  },
  {
   "cell_type": "code",
   "execution_count": 9,
   "metadata": {},
   "outputs": [
    {
     "name": "stdout",
     "output_type": "stream",
     "text": [
      "AAPL median =  181.99925231933594\n",
      "AAPL IQR =  35.406036376953125\n",
      "AAPL MAD =  15.462600708007812\n"
     ]
    }
   ],
   "source": [
    "print(\"AAPL median = \", median(aapl['Adj Close']))\n",
    "print(\"AAPL IQR = \", IQR(aapl['Adj Close']))\n",
    "print(\"AAPL MAD = \", MAD(aapl['Adj Close']))"
   ]
  },
  {
   "cell_type": "code",
   "execution_count": null,
   "metadata": {},
   "outputs": [],
   "source": []
  }
 ],
 "metadata": {
  "kernelspec": {
   "display_name": "Python 3",
   "language": "python",
   "name": "python3"
  },
  "language_info": {
   "codemirror_mode": {
    "name": "ipython",
    "version": 3
   },
   "file_extension": ".py",
   "mimetype": "text/x-python",
   "name": "python",
   "nbconvert_exporter": "python",
   "pygments_lexer": "ipython3",
   "version": "3.7.4"
  }
 },
 "nbformat": 4,
 "nbformat_minor": 4
}
